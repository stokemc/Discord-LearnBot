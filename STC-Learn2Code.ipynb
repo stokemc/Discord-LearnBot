{
 "cells": [
  {
   "cell_type": "markdown",
   "id": "40ec43ec",
   "metadata": {},
   "source": [
    "## STC-Learn2Code\n",
    "\n",
    "A Discord bot that allows you to select from a list of pre-added courses and read through them to enhance your learning experience."
   ]
  },
  {
   "cell_type": "markdown",
   "id": "0fe93f20",
   "metadata": {},
   "source": [
    "### Import our modules..."
   ]
  },
  {
   "cell_type": "code",
   "execution_count": 1,
   "id": "d635e03f",
   "metadata": {},
   "outputs": [],
   "source": [
    "import discord\n",
    "import course_anaconda"
   ]
  },
  {
   "cell_type": "markdown",
   "id": "0b20a703",
   "metadata": {},
   "source": [
    "### Function to help display the course info"
   ]
  },
  {
   "cell_type": "code",
   "execution_count": 5,
   "id": "f3b14317",
   "metadata": {},
   "outputs": [],
   "source": [
    "outline1 = (course_anaconda.course +'\\n\\n' + course_anaconda.outline_1)\n",
    "outline2 = (course_anaconda.course +'\\n\\n' + course_anaconda.outline_2)\n",
    "outline3 = (course_anaconda.course +'\\n\\n' + course_anaconda.outline_3)\n",
    "outline4 = (course_anaconda.course +'\\n\\n' + course_anaconda.outline_4)\n",
    "outline5 = (course_anaconda.course +'\\n\\n' + course_anaconda.outline_5)\n",
    "outline6 = (course_anaconda.course +'\\n\\n' + course_anaconda.outline_6)\n",
    "outline7 = (course_anaconda.course +'\\n\\n' + course_anaconda.outline_7)\n",
    "lesson1 = (course_anaconda.course +'\\n\\n' + course_anaconda.lesson_1)\n",
    "lesson2 = (course_anaconda.course +'\\n\\n' + course_anaconda.lesson_2)\n",
    "lesson3 = (course_anaconda.course +'\\n\\n' + course_anaconda.lesson_3)\n",
    "lesson4 = (course_anaconda.course +'\\n\\n' + course_anaconda.lesson_4)\n",
    "lesson5 = (course_anaconda.course +'\\n\\n' + course_anaconda.lesson_5)\n",
    "lesson6 = (course_anaconda.course +'\\n\\n' + course_anaconda.lesson_6)\n",
    "lesson7 = (course_anaconda.course +'\\n\\n' + course_anaconda.lesson_7)"
   ]
  },
  {
   "cell_type": "code",
   "execution_count": 12,
   "id": "a4391467",
   "metadata": {},
   "outputs": [
    {
     "name": "stdout",
     "output_type": "stream",
     "text": [
      "**Anaconda 101: Getting Started with Python**\n",
      "\n",
      "**LESSON 1**\n",
      "\n",
      "What is Anaconda?\n",
      "\n",
      "Welcome to Anaconda 101: Getting Started with Python. In this lesson, we will introduce you to Anaconda and its main features.\n",
      "\n",
      "Anaconda is a free and open-source distribution of Python and R, designed specifically for data science and machine learning. It includes a number of tools and resources for these fields, such as the Conda package manager, the Anaconda Navigator, and support for cloud-based computing platforms. Anaconda has become a popular choice for professionals in these fields due to its ease of use and extensive package ecosystem. It is widely used in industry, academia, and government organizations around the world.\n",
      "\n",
      "Anaconda was created by Continuum Analytics in 2012 as a distribution of Python packages for scientific computing, and has since grown to become a widely-used tool for a variety of programming tasks. It is built on top of the Conda package manager, which allows users to easily install and manage packages and environments for their projects. In addition to its core features, Anaconda also provides a number of tools and resources for data science and machine learning, such as Jupyter notebooks, RStudio, and support for cloud-based computing platforms.\n",
      "\n",
      "Conda is the package manager included with Anaconda. It allows you to easily install and manage packages and environments for your projects. It can install packages from the Anaconda repository as well as from other sources. This makes it very convenient to use, as you don't have to manually download and install packages or worry about compatibility issues.\n",
      "\n",
      "The Anaconda Navigator is a graphical user interface for managing packages and environments. It allows you to launch installed packages, create and manage environments, and install new packages. It also provides access to a number of tools and resources for data science and machine learning, such as Jupyter notebooks and RStudio. The Anaconda Navigator makes it easy to get started with Anaconda, as you don't have to use the command line to manage packages and environments.\n",
      "\n",
      "Anaconda comes with a large number of pre-installed packages, including many commonly used for data science and machine learning. This can save you time and effort when starting new projects, as you don't have to manually install these packages. Anaconda also supports both Python and R, making it a versatile choice for those who work with both languages.\n",
      "\n",
      "There are other Python distributions available, such as Miniconda and PyPI. Miniconda is a smaller version of Anaconda that includes only the Conda package manager and a few basic packages. Users can then install additional packages as needed for their projects. This is a good option for those who want a lightweight installation and prefer to only install the packages they need. PyPI (the Python Package Index) is a repository of Python packages that can be installed using the pip package manager. PyPI includes a wide variety of packages, including many that are used for data science and machine learning. However, PyPI does not include tools and resources specifically designed for these fields, such as the Anaconda Navigator or support for cloud-based computing platforms.\n",
      "\n",
      "In summary, Anaconda is a powerful tool for data science and machine learning, with a large package ecosystem and a number of resources specifically designed for these fields. It also has an active community of users with extensive documentation and support resources available. Using Anaconda can save you time and effort when setting up your projects, and its package manager, Conda, makes it easy to install and manage packages and environments. The Anaconda Navigator provides a user-friendly interface for managing packages and environments, and gives you access to a variety of tools and resources for data science and machine learning. Whether you are a beginner or an experienced programmer, Anaconda has something to offer. So why wait? Get started with Anaconda today and see how it can help you with your projects! Happy coding!\n"
     ]
    }
   ],
   "source": [
    "print(lesson1)"
   ]
  },
  {
   "cell_type": "code",
   "execution_count": null,
   "id": "7e8aa1f6",
   "metadata": {},
   "outputs": [],
   "source": []
  },
  {
   "cell_type": "code",
   "execution_count": null,
   "id": "308d421f",
   "metadata": {},
   "outputs": [],
   "source": []
  }
 ],
 "metadata": {
  "celltoolbar": "Raw Cell Format",
  "kernelspec": {
   "display_name": "Python 3 (ipykernel)",
   "language": "python",
   "name": "python3"
  },
  "language_info": {
   "codemirror_mode": {
    "name": "ipython",
    "version": 3
   },
   "file_extension": ".py",
   "mimetype": "text/x-python",
   "name": "python",
   "nbconvert_exporter": "python",
   "pygments_lexer": "ipython3",
   "version": "3.9.13"
  }
 },
 "nbformat": 4,
 "nbformat_minor": 5
}
