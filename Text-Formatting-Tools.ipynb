{
 "cells": [
  {
   "cell_type": "markdown",
   "id": "9d5e8801",
   "metadata": {},
   "source": [
    "# Text Formatting Tools"
   ]
  },
  {
   "cell_type": "markdown",
   "id": "7dcc0e38",
   "metadata": {},
   "source": [
    "## Removing Unwanted Chars"
   ]
  },
  {
   "cell_type": "markdown",
   "id": "caa8ae7e",
   "metadata": {},
   "source": [
    "**Sample use:** remUnwantedChars(\"sample.txt\", \"-\", 5)"
   ]
  },
  {
   "cell_type": "code",
   "execution_count": 4,
   "id": "45909338",
   "metadata": {},
   "outputs": [],
   "source": [
    "import re\n",
    "\n",
    "def remUnwantedChars(file_name, unwanted_char, num_chars):\n",
    "    with open(\"txtFormatTools/source/\"+file_name, 'r') as f:\n",
    "        text = f.read()\n",
    "    \n",
    "    pattern = unwanted_char + '{' + str(num_chars) + ',}'\n",
    "    text = re.sub(pattern, '', text)\n",
    "    \n",
    "    with open(\"txtFormatTools/output/\"+file_name.split('.')[0]+'-saved.'+file_name.split('.')[1], 'w') as f:\n",
    "        f.write(text)"
   ]
  },
  {
   "cell_type": "code",
   "execution_count": 5,
   "id": "b389444b",
   "metadata": {},
   "outputs": [],
   "source": [
    "remUnwantedChars('conda-course.txt', '-', 4)"
   ]
  },
  {
   "cell_type": "code",
   "execution_count": null,
   "id": "ab28bbcc",
   "metadata": {},
   "outputs": [],
   "source": []
  }
 ],
 "metadata": {
  "kernelspec": {
   "display_name": "Python 3 (ipykernel)",
   "language": "python",
   "name": "python3"
  },
  "language_info": {
   "codemirror_mode": {
    "name": "ipython",
    "version": 3
   },
   "file_extension": ".py",
   "mimetype": "text/x-python",
   "name": "python",
   "nbconvert_exporter": "python",
   "pygments_lexer": "ipython3",
   "version": "3.10.9"
  }
 },
 "nbformat": 4,
 "nbformat_minor": 5
}
